{
 "cells": [
  {
   "cell_type": "markdown",
   "id": "5d4b9c98",
   "metadata": {},
   "source": [
    "# **Welcome to the Intro to NumPy**\n",
    "By: Mein, Richa, Spencer \n",
    "\n",
    "In Collaboration with the Division of Data Science's [Data Peer Consulting](https://data.berkeley.edu/ds-peer-consulting)"
   ]
  },
  {
   "cell_type": "markdown",
   "id": "ae41884d",
   "metadata": {},
   "source": [
    "### BEFORE WE BEGIN PLEASE COMPLETE THIS SURVEY\n",
    "[Pre-Workshop Survey Link](https://forms.gle/2mGSMJheKq6hV3FH6)  "
   ]
  },
  
  {
   "cell_type": "markdown",
   "id": "5f47b333",
   "metadata": {},
   "source": [
    "## Richa Bhattacharya\n",
    "![Instructor](richa.jpg)\n",
    "\n",
    "Quick Facts About Me:\n",
    "\n",
    "    🐻 Senior at Cal\n",
    "    🎒 Studying Computer Science and Data Science\n",
    "    📊 Joined the Data Peer Consulting team in Fall 2019\n",
    "\n",
    "How to Reach Me:\n",
    "\n",
    "    📮 Email: richa.b@berkeley.edu"
   ]
  },
  {
   "cell_type": "markdown",
   "id": "d506d15a",
   "metadata": {},
   "source": [
    "## Mein Lee\n",
    "![Instructor](mein.jpeg)\n",
    "\n",
    "Quick Facts About Me:\n",
    "\n",
    "    🐻 Senior at Cal\n",
    "    🎒 Studying Data Science and Demography\n",
    "    📊 Joined the Data Peer Consulting team in Fall 2020\n",
    "\n",
    "How to Reach Me:\n",
    "\n",
    "    📮 Email: meinlee@berkeley.edu"
   ]
  },
  {
   "cell_type": "markdown",
   "metadata": {},
   "source": [
    "---\n",
    "\n",
    "## Workshop Goals\n",
    "\n",
    "The goal of this workshop is to cover the fundamentals of Numpy and give a working knowledge of the Numpy package. By the end of the workshop, you should be able to fluently manipulate Numpy arrays,  do basic table operations on data, and plot graphs. \n",
    "\n",
    "    - Understand the fundamental similarities and differences between Numpy arrays and Python lists as well as when to use one or the other. \n",
    "    - Apply the basic Numpy data structures as well as the basic table operations onto data \n",
    "    - Demonstrate the basic workflow for visualizing data "
   ]
  },
  {
   "cell_type": "markdown",
   "id": "b359b29b",
   "metadata": {},
   "source": [
    "---\n",
    "<a class=\"anchor\" id=\"tof\"></a>\n",
    "## Table of Contents\n",
    "- [Intro to NumPy](#1)\n",
    "- [Commonly Used NumPy Functions](#2)\n",
    "- [Arrays](#3)\n",
    "- [Table Manipulations](#4)\n",
    "- [Simple Visualizations](#5)\n",
    "- [Reference Sheets](#rs)"
   ]
  },
  {
   "cell_type": "markdown",
   "id": "82089a84",
   "metadata": {},
   "source": [
    "---\n",
    "<a class=\"anchor\" id=\"1\"></a>\n",
    "## Introduction to NumPy\n",
    "\n",
    "NumPy stands for \"Numerical Python\". What this means is that Numpy is a package used for fast, efficient numerical calculations in Python. Numpy uses what we will call Numpy Arrays, which are very similar to Python lists, but have a couple of key differences that we will take a look at.\n",
    "\n",
    "To use the Numpy package (or any other package), we must always import it into whatever text editor (program used for coding, e.g. Jupyter Notebook) that we are using."
   ]
  },
  {
   "cell_type": "code",
   "execution_count": 2,
   "id": "18e35ecc",
   "metadata": {},
   "outputs": [],
   "source": [
    "### Standard import statement for Numpy \n",
    "\n",
    "import numpy as np"
   ]
  },
  {
   "cell_type": "markdown",
   "id": "0fa07dc9",
   "metadata": {},
   "source": [
    "We can now use the NumPy package with the shorthand `np`! We access various functions inside this package with `np.function(*arguments)`, where function() is the function you would like to use."
   ]
  },
  {
   "cell_type": "markdown",
   "id": "d871bc5a",
   "metadata": {},
   "source": [
    "---\n",
    "<a class=\"anchor\" id=\"2\"></a>\n",
    "## Commonly Used Numpy Functions\n",
    "<a class=\"anchor\" id=\"npfuncs\"></a>\n",
    "Here are the corresponding NumPy documentations for reference:\n",
    "- [np.append](https://numpy.org/doc/stable/reference/generated/numpy.append.html)\n",
    "- [np.arange](https://numpy.org/doc/stable/reference/generated/numpy.arange.html)\n",
    "- [np.linspace](https://numpy.org/doc/stable/reference/generated/numpy.linspace.html)\n",
    "- [Np.random.choice](https://numpy.org/doc/stable/reference/random/generated/numpy.random.choice.html?highlight=random%20choice#numpy.random.choice)\n",
    "- [Np.histogram](https://numpy.org/doc/stable/reference/generated/numpy.histogram.html?highlight=histogram#numpy.histogram)\n"
   ]
  },
  {
   "cell_type": "markdown",
   "id": "b6660cf0",
   "metadata": {},
   "source": [
    "### np.append()"
   ]
  },
  {
   "cell_type": "markdown",
   "id": "2328790b",
   "metadata": {},
   "source": [
    "Appends values to the end of a given array."
   ]
  },
  {
   "cell_type": "code",
   "execution_count": 3,
   "id": "6801e64e",
   "metadata": {},
   "outputs": [
    {
     "data": {
      "text/plain": [
       "array([1, 3, 5, 2, 4, 6])"
      ]
     },
     "execution_count": 3,
     "metadata": {},
     "output_type": "execute_result"
    }
   ],
   "source": [
    "odd = np.array([1,3,5])\n",
    "even = np.array([2,4,6])\n",
    "odd_and_even = np.append(odd, even)\n",
    "odd_and_even"
   ]
  },
  {
   "cell_type": "markdown",
   "id": "4db3c6e2",
   "metadata": {},
   "source": [
    "### np.arange()"
   ]
  },
  {
   "cell_type": "markdown",
   "id": "33f4e5bd",
   "metadata": {},
   "source": [
    "Returns ranges with a given starting, ending, and step size."
   ]
  },
  {
   "cell_type": "code",
   "execution_count": 4,
   "id": "91bd5bf7",
   "metadata": {},
   "outputs": [
    {
     "data": {
      "text/plain": [
       "array([0, 1, 2])"
      ]
     },
     "execution_count": 4,
     "metadata": {},
     "output_type": "execute_result"
    }
   ],
   "source": [
    "#default start at 0, end at 3-1 = 2 \n",
    "#default step size = 1\n",
    "range1 = np.arange(3)\n",
    "range1"
   ]
  },
  {
   "cell_type": "code",
   "execution_count": 5,
   "id": "72e6580f",
   "metadata": {},
   "outputs": [
    {
     "data": {
      "text/plain": [
       "array([0., 1., 2.])"
      ]
     },
     "execution_count": 5,
     "metadata": {},
     "output_type": "execute_result"
    }
   ],
   "source": [
    "#default start at 0, end at 3.0- 1 = 2.0\n",
    "#default step size = 1\n",
    "range2 = np.arange(3.0)\n",
    "range2"
   ]
  },
  {
   "cell_type": "code",
   "execution_count": 6,
   "id": "6446ab81",
   "metadata": {},
   "outputs": [
    {
     "data": {
      "text/plain": [
       "array([3, 4, 5, 6])"
      ]
     },
     "execution_count": 6,
     "metadata": {},
     "output_type": "execute_result"
    }
   ],
   "source": [
    "#start = 3, end = 7-1 = 6, step size = 1\n",
    "range3 = np.arange(3,7)\n",
    "range3"
   ]
  },
  {
   "cell_type": "code",
   "execution_count": 7,
   "id": "fd2bb8d5",
   "metadata": {},
   "outputs": [
    {
     "data": {
      "text/plain": [
       "array([3, 5])"
      ]
     },
     "execution_count": 7,
     "metadata": {},
     "output_type": "execute_result"
    }
   ],
   "source": [
    "#start = 3, end = 7-1 = 6, step size = 2\n",
    "range4 = np.arange(3,7,2)\n",
    "range4"
   ]
  },
  {
   "cell_type": "markdown",
   "id": "3419d678",
   "metadata": {},
   "source": [
    "### np.linspace()"
   ]
  },
  {
   "cell_type": "markdown",
   "id": "8be880a6",
   "metadata": {},
   "source": [
    "Return evenly spaced numbers over a specified interval."
   ]
  },
  {
   "cell_type": "code",
   "execution_count": 9,
   "id": "18cc5117",
   "metadata": {},
   "outputs": [
    {
     "data": {
      "text/plain": [
       "array([2.  , 2.25, 2.5 , 2.75, 3.  ])"
      ]
     },
     "execution_count": 9,
     "metadata": {},
     "output_type": "execute_result"
    }
   ],
   "source": [
    "np.linspace(2.0, 3.0, num=5)\n",
    "#default endpoint = True"
   ]
  },
  {
   "cell_type": "code",
   "execution_count": 10,
   "id": "3cbd07fd",
   "metadata": {},
   "outputs": [
    {
     "data": {
      "text/plain": [
       "array([2. , 2.2, 2.4, 2.6, 2.8])"
      ]
     },
     "execution_count": 10,
     "metadata": {},
     "output_type": "execute_result"
    }
   ],
   "source": [
    "np.linspace(2.0, 3.0, num=5, endpoint=False)\n",
    "#returns equal intervals excluding the endpoint"
   ]
  },
  {
   "cell_type": "markdown",
   "id": "c8614b5f",
   "metadata": {},
   "source": [
    "### np.random.choice()"
   ]
  },
  {
   "cell_type": "markdown",
   "id": "efec8876",
   "metadata": {},
   "source": [
    "Generates a random sample from a given 1-D array"
   ]
  },
  {
   "cell_type": "code",
   "execution_count": 11,
   "id": "07ced862",
   "metadata": {},
   "outputs": [
    {
     "data": {
      "text/plain": [
       "array([2, 3, 3])"
      ]
     },
     "execution_count": 11,
     "metadata": {},
     "output_type": "execute_result"
    }
   ],
   "source": [
    "#Generate a uniform random sample from np.arange(5) of size 3:\n",
    "np.random.choice(5, 3)\n",
    "#This is equivalent to np.random.randint(0,5,3)"
   ]
  },
  {
   "cell_type": "code",
   "execution_count": 12,
   "id": "f9a998fa",
   "metadata": {},
   "outputs": [
    {
     "data": {
      "text/plain": [
       "array([3, 0, 2])"
      ]
     },
     "execution_count": 12,
     "metadata": {},
     "output_type": "execute_result"
    }
   ],
   "source": [
    "#Generate a non-uniform random sample from np.arange(5) of size 3:\n",
    "np.random.choice(5, 3, p=[0.1, 0, 0.3, 0.6, 0])"
   ]
  },
  {
   "cell_type": "markdown",
   "id": "a693e8fd",
   "metadata": {},
   "source": [
    "#### Note: everytime we re-run this function the values change. "
   ]
  },
  {
   "cell_type": "code",
   "execution_count": 13,
   "id": "a778776d",
   "metadata": {},
   "outputs": [
    {
     "data": {
      "text/plain": [
       "array([3, 1, 0])"
      ]
     },
     "execution_count": 13,
     "metadata": {},
     "output_type": "execute_result"
    }
   ],
   "source": [
    "#Generate a uniform random sample from np.arange(5) of size 3 without replacement:\n",
    "\n",
    "np.random.choice(5, 3, replace=False)"
   ]
  },
  {
   "cell_type": "markdown",
   "id": "9c99fcc6",
   "metadata": {},
   "source": [
    "### np.histogram()"
   ]
  },
  {
   "cell_type": "markdown",
   "id": "2ac0d983",
   "metadata": {},
   "source": [
    "Computes the histogram of a dataset"
   ]
  },
  {
   "cell_type": "code",
   "execution_count": 15,
   "id": "bdec60ed",
   "metadata": {},
   "outputs": [
    {
     "data": {
      "text/plain": [
       "(array([0, 2, 1]), array([0, 1, 2, 3]))"
      ]
     },
     "execution_count": 15,
     "metadata": {},
     "output_type": "execute_result"
    }
   ],
   "source": [
    "np.histogram([1, 2, 1], bins=[0, 1, 2, 3])"
   ]
  },
  {
   "cell_type": "code",
   "execution_count": 16,
   "id": "0396bbbf",
   "metadata": {},
   "outputs": [
    {
     "data": {
      "text/plain": [
       "(array([0.25, 0.25, 0.25, 0.25]), array([0, 1, 2, 3, 4]))"
      ]
     },
     "execution_count": 16,
     "metadata": {},
     "output_type": "execute_result"
    }
   ],
   "source": [
    "np.histogram(np.arange(4), bins=np.arange(5), density=True)"
   ]
  },
  {
   "cell_type": "markdown",
   "id": "c47f930e",
   "metadata": {},
   "source": [
    "To get visual graphs that make these outputs much easier to understand, it's a good idea to use matplotlib - another extremely useful python library."
   ]
  },
  {
   "cell_type": "markdown",
   "id": "cde0e16c",
   "metadata": {},
   "source": [
    "## NumPy Arrays vs. Python Lists"
   ]
  },
  {
   "cell_type": "markdown",
   "id": "1fd90661",
   "metadata": {},
   "source": [
    "By definition, a numpy array is a grid of values, all of the same type, and is indexed by a tuple of nonnegative integers. The number of dimensions is the rank of the array; the shape of an array is a tuple of integers giving the size of the array along each dimension.\n",
    "\n",
    "A list is the Python equivalent of an array, but is resizeable and can contain elements of different types."
   ]
  },
  {
   "cell_type": "markdown",
   "id": "fc345a4f",
   "metadata": {},
   "source": [
    "While they operate very similarly, there are 3 major differences between NumPy Arrays and Python Lists in favor of using NumPy Arrays: \n",
    "\n",
    "    Size - Numpy data structures take up less space\n",
    "    Performance - they have a need for speed and are faster than lists\n",
    "    Functionality - SciPy and NumPy have optimized functions such as linear algebra operations built in."
   ]
  },
  {
   "cell_type": "markdown",
   "id": "7d020e89",
   "metadata": {},
   "source": [
    "---\n",
    "<a class=\"anchor\" id=\"3\"></a>\n",
    "## Arrays"
   ]
  },
  {
   "cell_type": "markdown",
   "id": "1f26e4d5",
   "metadata": {},
   "source": [
    "A numpy array is a grid of values, all of the same datatype, and is indexed by a tuple of nonnegative integers. To show an example of a Numpy array, we must first import the Numpy package"
   ]
  },
  {
   "cell_type": "markdown",
   "id": "1c76c52e",
   "metadata": {},
   "source": [
    "### np.array() "
   ]
  },
  {
   "cell_type": "code",
   "execution_count": 17,
   "id": "4ca8e214",
   "metadata": {},
   "outputs": [
    {
     "name": "stdout",
     "output_type": "stream",
     "text": [
      "[1 2 3 4 5]\n"
     ]
    }
   ],
   "source": [
    "arr = np.array([1, 2, 3, 4, 5])\n",
    "print(arr)"
   ]
  },
  {
   "cell_type": "markdown",
   "id": "44099025",
   "metadata": {},
   "source": [
    "### np.zeros()\n",
    "\n",
    "- A useful hact to create a Numpy array of zeros. \n",
    "\n",
    "- The `np.zeros()` function also takes in an optional parameter to specify the datatype of the O's. If not specified, the default datatype is a float.\n"
   ]
  },
  {
   "cell_type": "code",
   "execution_count": 18,
   "id": "9ebef42c",
   "metadata": {},
   "outputs": [
    {
     "name": "stdout",
     "output_type": "stream",
     "text": [
      "[0. 0. 0. 0. 0.]\n"
     ]
    }
   ],
   "source": [
    "#A Numpy array of five zeros\n",
    "arr_zeros = np.zeros(5)\n",
    "print(arr_zeros)"
   ]
  },
  {
   "cell_type": "code",
   "execution_count": 19,
   "id": "c1ed8f13",
   "metadata": {},
   "outputs": [
    {
     "name": "stdout",
     "output_type": "stream",
     "text": [
      "[0 0 0 0 0]\n"
     ]
    }
   ],
   "source": [
    "#A Numpy array of five \n",
    "arr_zeros_int = np.zeros(5, dtype=int)\n",
    "print(arr_zeros_int)"
   ]
  },
  {
   "cell_type": "code",
   "execution_count": 20,
   "id": "48e6269e",
   "metadata": {},
   "outputs": [
    {
     "name": "stdout",
     "output_type": "stream",
     "text": [
      "[[0. 0.]\n",
      " [0. 0.]]\n"
     ]
    }
   ],
   "source": [
    "#Works with different dimensions\n",
    "arr_zeros_2D = np.zeros([2,2])\n",
    "print(arr_zeros_2D)"
   ]
  },
  {
   "cell_type": "markdown",
   "id": "b88c84a5",
   "metadata": {},
   "source": [
    "### np.ones()\n",
    "\n",
    "Similar to `np.zeros()`, but outputs a Numpy array of ones"
   ]
  },
  {
   "cell_type": "code",
   "execution_count": 24,
   "id": "a68e283c",
   "metadata": {},
   "outputs": [
    {
     "name": "stdout",
     "output_type": "stream",
     "text": [
      "[1. 1. 1. 1. 1.]\n",
      "[1 1 1 1 1]\n"
     ]
    }
   ],
   "source": [
    "#A Numpy array of five zeros\n",
    "arr_ones = np.ones(5)\n",
    "print(arr_ones)\n",
    "\n",
    "#A Numpy array of five \n",
    "arr_ones_int = np.ones(5, dtype=int)\n",
    "print(arr_ones_int)\n"
   ]
  },
  {
   "cell_type": "markdown",
   "id": "5c7716c4",
   "metadata": {},
   "source": [
    "### np.arange()\n",
    "\n",
    "- Create a range of values\n",
    "\n",
    "- `numpy.arange`(start *inclusive*, stop *exclusive*, step)\n",
    "\n",
    "- Default values of start and step are 0,1 respectively 'stop' value is required (no default)"
   ]
  },
  {
   "cell_type": "code",
   "execution_count": 25,
   "id": "2bac0eb4",
   "metadata": {},
   "outputs": [
    {
     "name": "stdout",
     "output_type": "stream",
     "text": [
      "[0 1 2]\n"
     ]
    }
   ],
   "source": [
    "#Default start as 0, step as 1\n",
    "print(np.arange(3))"
   ]
  },
  {
   "cell_type": "code",
   "execution_count": 26,
   "id": "d70365a3",
   "metadata": {},
   "outputs": [
    {
     "name": "stdout",
     "output_type": "stream",
     "text": [
      "[3 4 5 6]\n"
     ]
    }
   ],
   "source": [
    "#Default start as 0\n",
    "print(np.arange(3,7))"
   ]
  },
  {
   "cell_type": "code",
   "execution_count": 27,
   "id": "243842bf",
   "metadata": {},
   "outputs": [
    {
     "name": "stdout",
     "output_type": "stream",
     "text": [
      "[3 5]\n"
     ]
    }
   ],
   "source": [
    "#Specify start, stop, step\n",
    "print(np.arange(3,7,2)) # Before running this, try to predict what it will print out!"
   ]
  },
  {
   "cell_type": "code",
   "execution_count": 28,
   "id": "886d7c0b",
   "metadata": {},
   "outputs": [
    {
     "name": "stdout",
     "output_type": "stream",
     "text": [
      "[0. 1. 2.]\n"
     ]
    }
   ],
   "source": [
    "#Specify float datatype\n",
    "print(np.arange(3.0))"
   ]
  },
  {
   "cell_type": "markdown",
   "id": "23c6c7bb",
   "metadata": {},
   "source": [
    "## Numpy Array Elementwise Arithmetic"
   ]
  },
  {
   "cell_type": "code",
   "execution_count": 29,
   "id": "bae101d8",
   "metadata": {},
   "outputs": [
    {
     "data": {
      "text/plain": [
       "array([1, 2, 3, 4, 5])"
      ]
     },
     "execution_count": 29,
     "metadata": {},
     "output_type": "execute_result"
    }
   ],
   "source": [
    "arr = np.array([1,2,3,4,5])\n",
    "arr"
   ]
  },
  {
   "cell_type": "markdown",
   "id": "cb041e3e",
   "metadata": {},
   "source": [
    "Elementwise arithmetic can also be used by exponents `**`, subtraction `-`, etc."
   ]
  },
  {
   "cell_type": "code",
   "execution_count": 30,
   "id": "d938d7dc",
   "metadata": {},
   "outputs": [
    {
     "data": {
      "text/plain": [
       "array([11, 12, 13, 14, 15])"
      ]
     },
     "execution_count": 30,
     "metadata": {},
     "output_type": "execute_result"
    }
   ],
   "source": [
    "# automatically performs element-wise arithmetic: [1+10, 2+10, 3+10, 4+10, 5+10]\n",
    "arr + 10 "
   ]
  },
  {
   "cell_type": "code",
   "execution_count": 31,
   "id": "20a31733",
   "metadata": {},
   "outputs": [
    {
     "data": {
      "text/plain": [
       "array([10, 20, 30, 40, 50])"
      ]
     },
     "execution_count": 31,
     "metadata": {},
     "output_type": "execute_result"
    }
   ],
   "source": [
    "arr * 10 # [1*10, 2*10, 3*10]"
   ]
  },
  {
   "cell_type": "markdown",
   "id": "3be5473b",
   "metadata": {},
   "source": [
    "## Elementwise Arithmetic among Numpy Arrays ##"
   ]
  },
  {
   "cell_type": "code",
   "execution_count": 32,
   "id": "516711cd",
   "metadata": {},
   "outputs": [],
   "source": [
    "arr_size_3 = np.array([1,2,3])\n",
    "#arr - arr_size_3 #Expect an error"
   ]
  },
  {
   "cell_type": "code",
   "execution_count": 33,
   "id": "d29885d9",
   "metadata": {},
   "outputs": [
    {
     "data": {
      "text/plain": [
       "array([0, 0, 0, 0, 0])"
      ]
     },
     "execution_count": 33,
     "metadata": {},
     "output_type": "execute_result"
    }
   ],
   "source": [
    "arr_size_5 = np.arange(1, 6) #Challenge: what does this produce? How is it different than np.arange(6) or np.arange(1,6,1) ?\n",
    "arr_size_5 - arr"
   ]
  },
  {
   "cell_type": "code",
   "execution_count": 34,
   "id": "7ae3baa3",
   "metadata": {},
   "outputs": [
    {
     "data": {
      "text/plain": [
       "array([   1,    4,   27,  256, 3125])"
      ]
     },
     "execution_count": 34,
     "metadata": {},
     "output_type": "execute_result"
    }
   ],
   "source": [
    "arr_size_5 ** arr #How did we get this output?"
   ]
  },
  {
   "cell_type": "markdown",
   "id": "65bf4c1b",
   "metadata": {},
   "source": [
    "### np.append ##\n",
    "Arrays of different sizes can be appended (concatenated) together "
   ]
  },
  {
   "cell_type": "code",
   "execution_count": 35,
   "id": "7338aa5c",
   "metadata": {},
   "outputs": [
    {
     "data": {
      "text/plain": [
       "array([1, 2, 3, 1, 2, 3, 4, 5])"
      ]
     },
     "execution_count": 35,
     "metadata": {},
     "output_type": "execute_result"
    }
   ],
   "source": [
    "np.append(arr_size_3, arr_size_5)"
   ]
  },
  {
   "cell_type": "markdown",
   "id": "1582944e",
   "metadata": {},
   "source": [
    "We can append arrays of different datatypes -- but the datatype will change!"
   ]
  },
  {
   "cell_type": "code",
   "execution_count": 38,
   "id": "125bc1ac",
   "metadata": {},
   "outputs": [
    {
     "data": {
      "text/plain": [
       "array(['a', 'b', 'c', '1', '2', '3', '4', '5'], dtype='<U21')"
      ]
     },
     "execution_count": 38,
     "metadata": {},
     "output_type": "execute_result"
    }
   ],
   "source": [
    "arr_abc = np.array(['a','b','c'])\n",
    "arr1to5 = np.arange(1,6)\n",
    "np.append(arr_abc, arr1to5)"
   ]
  },
  {
   "cell_type": "code",
   "execution_count": 39,
   "id": "9968aeca",
   "metadata": {},
   "outputs": [
    {
     "data": {
      "text/plain": [
       "[1, 2, 3, 'a', 'b', 'c']"
      ]
     },
     "execution_count": 39,
     "metadata": {},
     "output_type": "execute_result"
    }
   ],
   "source": [
    "#Use lists instead (Recall the properties of Python lists)\n",
    "[1,2,3] + ['a', 'b', 'c']"
   ]
  },
  {
   "cell_type": "markdown",
   "id": "78d2cf7b",
   "metadata": {},
   "source": [
    "### Array Indexing & Slicing \n",
    "\n",
    "- [start:stop:step] \n",
    "\n",
    "- Like we talked about above with `np.arange`, 'start' and 'step' default at 0,1 respectively, and 'stop' is required\n",
    "- Arrays are zero indexed"
   ]
  },
  {
   "cell_type": "code",
   "execution_count": 40,
   "id": "fa7e518c",
   "metadata": {},
   "outputs": [
    {
     "data": {
      "text/plain": [
       "array([1, 3, 5])"
      ]
     },
     "execution_count": 40,
     "metadata": {},
     "output_type": "execute_result"
    }
   ],
   "source": [
    "#Slicing\n",
    "x = np.array([0, 1, 2, 3, 4, 5, 6, 7, 8, 9])\n",
    "x[1:7:2]"
   ]
  },
  {
   "cell_type": "code",
   "execution_count": 41,
   "id": "6f9a4a1f",
   "metadata": {},
   "outputs": [
    {
     "data": {
      "text/plain": [
       "array([1, 2, 3, 4])"
      ]
     },
     "execution_count": 41,
     "metadata": {},
     "output_type": "execute_result"
    }
   ],
   "source": [
    "x[1:5]"
   ]
  },
  {
   "cell_type": "code",
   "execution_count": 42,
   "id": "b169ada2",
   "metadata": {},
   "outputs": [],
   "source": [
    "#What goes in here to produce array([2,3,4,5])\n",
    "#x[__:__] #Reminder that start is inclusive and stop is exclusive"
   ]
  },
  {
   "cell_type": "markdown",
   "id": "257b13ed",
   "metadata": {},
   "source": [
    "Cool hack! What should we code for the reverse of array x? That is, it is an array from 9,8,7,6,....,1 \n"
   ]
  },
  {
   "cell_type": "code",
   "execution_count": 43,
   "id": "96883d31",
   "metadata": {},
   "outputs": [
    {
     "data": {
      "text/plain": [
       "9"
      ]
     },
     "execution_count": 43,
     "metadata": {},
     "output_type": "execute_result"
    }
   ],
   "source": [
    "x[-1] #Remember that 'stop' is required. '-1' represents the last element"
   ]
  },
  {
   "cell_type": "code",
   "execution_count": 44,
   "id": "93f89b59",
   "metadata": {},
   "outputs": [
    {
     "data": {
      "text/plain": [
       "array([0, 1, 2, 3, 4, 5, 6, 7, 8])"
      ]
     },
     "execution_count": 44,
     "metadata": {},
     "output_type": "execute_result"
    }
   ],
   "source": [
    "x[:-1] #Not quite!"
   ]
  },
  {
   "cell_type": "code",
   "execution_count": 45,
   "id": "1b375ed3",
   "metadata": {},
   "outputs": [
    {
     "data": {
      "text/plain": [
       "array([9, 8, 7, 6, 5, 4, 3, 2, 1, 0])"
      ]
     },
     "execution_count": 45,
     "metadata": {},
     "output_type": "execute_result"
    }
   ],
   "source": [
    "x[::-1] #Got it!"
   ]
  },
  {
   "cell_type": "code",
   "execution_count": 46,
   "id": "60583b23",
   "metadata": {},
   "outputs": [
    {
     "data": {
      "text/plain": [
       "7"
      ]
     },
     "execution_count": 46,
     "metadata": {},
     "output_type": "execute_result"
    }
   ],
   "source": [
    "#Indexing\n",
    "#No colons\n",
    "x[7]"
   ]
  },
  {
   "cell_type": "markdown",
   "id": "15213add",
   "metadata": {},
   "source": [
    "---\n",
    "<a class=\"anchor\" id=\"4\"></a>\n",
    "## Table Manipulation"
   ]
  },
  {
   "cell_type": "markdown",
   "id": "770cb484",
   "metadata": {},
   "source": [
    "Let's using the Numpy `tabluate` package to print out tables!"
   ]
  },
  {
   "cell_type": "code",
   "execution_count": 47,
   "id": "8782d398",
   "metadata": {},
   "outputs": [],
   "source": [
    "from tabulate import tabulate"
   ]
  },
  {
   "cell_type": "code",
   "execution_count": 48,
   "id": "f29f3920",
   "metadata": {},
   "outputs": [],
   "source": [
    "data = np.array([[1, 2, 3], [4, 5, 6]])"
   ]
  },
  {
   "cell_type": "code",
   "execution_count": 49,
   "id": "0b86c974",
   "metadata": {},
   "outputs": [],
   "source": [
    "columns = [\"col 1\", \"col 2\", \"col 3\"]"
   ]
  },
  {
   "cell_type": "code",
   "execution_count": 52,
   "id": "e0df01e3",
   "metadata": {},
   "outputs": [],
   "source": [
    "# tabulate data\n",
    "table = tabulate(data, columns, tablefmt=\"fancy_grid\")"
   ]
  },
  {
   "cell_type": "code",
   "execution_count": 53,
   "id": "0c9e1ed0",
   "metadata": {},
   "outputs": [
    {
     "name": "stdout",
     "output_type": "stream",
     "text": [
      "╒═════════╤═════════╤═════════╕\n",
      "│   col 1 │   col 2 │   col 3 │\n",
      "╞═════════╪═════════╪═════════╡\n",
      "│       1 │       2 │       3 │\n",
      "├─────────┼─────────┼─────────┤\n",
      "│       4 │       5 │       6 │\n",
      "╘═════════╧═════════╧═════════╛\n"
     ]
    }
   ],
   "source": [
    "print(table)"
   ]
  },
  {
   "cell_type": "markdown",
   "id": "a6cfcfb2",
   "metadata": {},
   "source": [
    "##### Structured Arrays [documentation](https://docs.scipy.org/doc/numpy-1.10.1/user/basics.rec.html)"
   ]
  },
  {
   "cell_type": "markdown",
   "id": "522cd2d2",
   "metadata": {},
   "source": [
    "---\n",
    "<a class=\"anchor\" id=\"5\"></a>\n",
    "## Simple Visualizations\n",
    "\n",
    "For plotting graphs in Python we will use the Matplotlib library. Matplotlib is used along with NumPy data to plot any type of graph. From matplotlib we use the specific function i.e. pyplot(), which is used to plot two-dimensional data.\n",
    "- Adapted from [GeeksforGeeks](https://www.geeksforgeeks.org/plot-line-graph-from-numpy-array/)"
   ]
  },
  {
   "cell_type": "code",
   "execution_count": 61,
   "id": "d345149e",
   "metadata": {},
   "outputs": [
    {
     "data": {
      "image/png": "[encoded data removed]",
      "text/plain": [
       "<Figure size 432x288 with 1 Axes>"
      ]
     },
     "metadata": {
      "needs_background": "light"
     },
     "output_type": "display_data"
    }
   ],
   "source": [
    "# importing the modules\n",
    "import matplotlib.pyplot as plt\n",
    "\n",
    "# data to be plotted\n",
    "x = np.arange(1, 11)\n",
    "y = x * x\n",
    "\n",
    "# plotting\n",
    "plt.title(\"Line graph\")\n",
    "plt.xlabel(\"X axis\")\n",
    "plt.ylabel(\"Y axis\")\n",
    "plt.plot(x, y, color =\"red\")\n",
    "plt.show()\n"
   ]
  },
  {
   "cell_type": "code",
   "execution_count": 62,
   "id": "f9360230",
   "metadata": {},
   "outputs": [
    {
     "data": {
      "image/png": "[encoded data removed]",
      "text/plain": [
       "<Figure size 432x288 with 1 Axes>"
      ]
     },
     "metadata": {
      "needs_background": "light"
     },
     "output_type": "display_data"
    }
   ],
   "source": [
    "# data to be plotted\n",
    "x = np.arange(1, 11)\n",
    "y = np.array([100, 10, 300, 20, 500, 60, 700, 80, 900, 100])\n",
    "\n",
    "# plotting\n",
    "plt.title(\"Line graph\")\n",
    "plt.xlabel(\"X axis\")\n",
    "plt.ylabel(\"Y axis\")\n",
    "plt.plot(x, y, color =\"green\")\n",
    "plt.show()\n"
   ]
  },
  {
   "cell_type": "markdown",
   "id": "ef233d53",
   "metadata": {},
   "source": [
    "---\n",
    "<a class=\"anchor\" id=\"rs\"></a>\n",
    "## Reference Sheets\n",
    "\n",
    "[Back to Table of Contents](#tof)\n",
    "\n",
    "Links updated as of 11/16/21.\n",
    "\n",
    "- [NumPy Cheat Sheet #1](https://s3.amazonaws.com/assets.datacamp.com/blog_assets/Numpy_Python_Cheat_Sheet.pdf)  ",
    "- [NumPy Cheat Sheet #2](http://data8.org/fa20/python-reference.html)  "
   ]
  },
  {
   "cell_type": "markdown",
   "id": "8698287a",
   "metadata": {},
   "source": [
    "## Thanks for Coming! PLEASE COMPLETE THIS POST-WORKSHOP SURVEY!  \n",
    "[Post-Workshop Survey Link Here](https://forms.gle/ba9nB9NVTFD7LyD78)"
   ]
  },
  {
   "cell_type": "code",
   "execution_count": null,
   "id": "2c55c9e1",
   "metadata": {},
   "outputs": [],
   "source": []
  }
 ],
 "metadata": {
  "kernelspec": {
   "display_name": "Python 3 (ipykernel)",
   "language": "python",
   "name": "python3"
  },
  "language_info": {
   "codemirror_mode": {
    "name": "ipython",
    "version": 3
   },
   "file_extension": ".py",
   "mimetype": "text/x-python",
   "name": "python",
   "nbconvert_exporter": "python",
   "pygments_lexer": "ipython3",
   "version": "3.9.7"
  }
 },
 "nbformat": 4,
 "nbformat_minor": 5
}
